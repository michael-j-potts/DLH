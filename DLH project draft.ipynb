{
 "cells": [
  {
   "cell_type": "code",
   "execution_count": 1,
   "id": "6ad7cdf1",
   "metadata": {},
   "outputs": [],
   "source": [
    "#general instructions\n",
    "\n",
    "#2 or more patient encounters are required as the authors remove the last encounter while making predictions\n",
    "# patient mortality is the outcome label and aquired from mimic. \n",
    "#2825 out of 7537 patients died (37.9%)\n",
    "#Data set was divided into  train (5275/7537), validation (753/7537) and test (1509/7537)\n",
    "# Once the optimal parameters were selected, the model was retrained by combining train and validation (6028/7537)\n",
    "#\n",
    "#\n",
    "#\n",
    "#"
   ]
  },
  {
   "cell_type": "code",
   "execution_count": 1,
   "id": "c7b683be-1b9a-4270-952b-a8e5a9813fb4",
   "metadata": {},
   "outputs": [],
   "source": [
    "import os\n",
    "import pandas as pd\n",
    "import numpy as np\n",
    "import torch\n",
    "import torch.nn as nn\n",
    "import torch.nn.functional as F\n",
    "import random\n",
    "import time"
   ]
  },
  {
   "cell_type": "code",
   "execution_count": 2,
   "id": "d43c5b59-3e7a-4490-aa61-708d22d07470",
   "metadata": {},
   "outputs": [],
   "source": [
    "# set seed - only really necessary to compare results with each other, but can remove from the submission\n",
    "seed = 24\n",
    "random.seed(seed)\n",
    "np.random.seed(seed)\n",
    "torch.manual_seed(seed)\n",
    "os.environ[\"PYTHONHASHSEED\"] = str(seed)\n",
    "\n",
    "# define data path\n",
    "DATA_PATH = \"~/Documents/DLH 598/mimic-iii-clinical-database-1.4\"\n",
    "\n",
    "\n",
    "# define data - separated to show which modules load (some take much longer than others)\n",
    "#The commented out sections take a long time to load, and weren't immidiately useful at this stage\n",
    "#Can uncommment when relevant"
   ]
  },
  {
   "cell_type": "code",
   "execution_count": 3,
   "id": "5aae81e1",
   "metadata": {},
   "outputs": [],
   "source": [
    "Patients = pd.read_csv(DATA_PATH + '/PATIENTS.csv')"
   ]
  },
  {
   "cell_type": "code",
   "execution_count": 4,
   "id": "aef884c5",
   "metadata": {},
   "outputs": [],
   "source": [
    "Diagnosis = pd.read_csv(DATA_PATH + '/DIAGNOSES_ICD.csv')"
   ]
  },
  {
   "cell_type": "code",
   "execution_count": 5,
   "id": "ab03c7e8",
   "metadata": {},
   "outputs": [],
   "source": [
    "Procedures = pd.read_csv(DATA_PATH + '/D_ICD_PROCEDURES.csv')"
   ]
  },
  {
   "cell_type": "code",
   "execution_count": 6,
   "id": "2ba977e9",
   "metadata": {},
   "outputs": [],
   "source": [
    "#Prescriptions = pd.read_csv(DATA_PATH + '/PRESCRIPTIONS.csv')"
   ]
  },
  {
   "cell_type": "code",
   "execution_count": 7,
   "id": "0ef15cef",
   "metadata": {},
   "outputs": [],
   "source": [
    "#LabEvents = pd.read_csv(DATA_PATH + '/LABEVENTS.csv')"
   ]
  },
  {
   "cell_type": "code",
   "execution_count": 8,
   "id": "8254e621",
   "metadata": {},
   "outputs": [],
   "source": [
    "LabLabels = pd.read_csv(DATA_PATH + '/D_LABITEMS.csv')"
   ]
  },
  {
   "cell_type": "code",
   "execution_count": 206,
   "id": "5c3e9025",
   "metadata": {},
   "outputs": [],
   "source": [
    "Admissions = pd.read_csv(DATA_PATH + '/ADMISSIONS.csv')"
   ]
  },
  {
   "cell_type": "code",
   "execution_count": 207,
   "id": "e0a4c65c",
   "metadata": {},
   "outputs": [],
   "source": [
    "ProcedureLabels = pd.read_csv(DATA_PATH + '/D_ITEMS.csv')"
   ]
  },
  {
   "cell_type": "code",
   "execution_count": 208,
   "id": "ea694043",
   "metadata": {},
   "outputs": [],
   "source": [
    "IcuStays = pd.read_csv(DATA_PATH + '/ICUSTAYS.csv')"
   ]
  },
  {
   "cell_type": "code",
   "execution_count": 209,
   "id": "d1ce3fe0",
   "metadata": {},
   "outputs": [],
   "source": [
    "#ChartEvents = pd.read_csv(DATA_PATH + '/CHARTEVENTS.csv')"
   ]
  },
  {
   "cell_type": "code",
   "execution_count": 178,
   "id": "9207fd6a",
   "metadata": {},
   "outputs": [
    {
     "name": "stdout",
     "output_type": "stream",
     "text": [
      "8755\n",
      "37720\n"
     ]
    }
   ],
   "source": [
    "# patient inclusion - Only ICU patients with 2 or more visits are included. Patient IDs gathered\n",
    "#May be incorrect as the paper specifies only 7,537 patients in their list.\n",
    "\n",
    "#Generate an ignore list for later ease of use.\n",
    "\n",
    "unique, counts = np.unique(IcuPatientList[1:, 0], return_counts=True)\n",
    "\n",
    "AllPatients = np.array(list(zip(unique, counts)))\n",
    "\n",
    "PatientList = []\n",
    "IgnoreList = []\n",
    "\n",
    "for i in AllPatients:\n",
    "    if i[1] >= 2:\n",
    "        PatientList.append(i)\n",
    "    else:\n",
    "        IgnoreList.append(i[0])\n",
    "\n",
    "print(len(PatientList))\n",
    "print(len(IgnoreList))"
   ]
  },
  {
   "cell_type": "code",
   "execution_count": 187,
   "id": "6021b663-956f-47c5-87dc-ec28f2029ff9",
   "metadata": {},
   "outputs": [
    {
     "ename": "TypeError",
     "evalue": "list indices must be integers or slices, not tuple",
     "output_type": "error",
     "traceback": [
      "\u001b[0;31m---------------------------------------------------------------------------\u001b[0m",
      "\u001b[0;31mTypeError\u001b[0m                                 Traceback (most recent call last)",
      "Input \u001b[0;32mIn [187]\u001b[0m, in \u001b[0;36m<cell line: 9>\u001b[0;34m()\u001b[0m\n\u001b[1;32m      9\u001b[0m \u001b[38;5;28;01mfor\u001b[39;00m i \u001b[38;5;129;01min\u001b[39;00m PatientList:\n\u001b[1;32m     10\u001b[0m     count \u001b[38;5;241m=\u001b[39m \u001b[38;5;241m0\u001b[39m\n\u001b[0;32m---> 11\u001b[0m     \u001b[38;5;28;01mif\u001b[39;00m i \u001b[38;5;241m==\u001b[39m \u001b[43madm\u001b[49m\u001b[43m[\u001b[49m\u001b[43m:\u001b[49m\u001b[43m,\u001b[49m\u001b[38;5;241;43m1\u001b[39;49m\u001b[43m]\u001b[49m:\n\u001b[1;32m     12\u001b[0m         \u001b[38;5;28;01mif\u001b[39;00m adm[count,\u001b[38;5;241m13\u001b[39m] \u001b[38;5;241m==\u001b[39m \u001b[38;5;124m\"\u001b[39m\u001b[38;5;124mWHITE\u001b[39m\u001b[38;5;124m\"\u001b[39m:\n\u001b[1;32m     13\u001b[0m             white \u001b[38;5;241m+\u001b[39m\u001b[38;5;241m=\u001b[39m \u001b[38;5;241m1\u001b[39m\n",
      "\u001b[0;31mTypeError\u001b[0m: list indices must be integers or slices, not tuple"
     ]
    }
   ],
   "source": [
    "# data statistics\n",
    "white = 0\n",
    "black = 0\n",
    "hispanic = 0\n",
    "asian = 0\n",
    "other = 0\n",
    "\n",
    "\n",
    "#Not yet working.... General idea.\n",
    "for i in PatientList:\n",
    "    count = 0\n",
    "    if i == adm[:,1]:\n",
    "        if adm[count,13] == \"WHITE\":\n",
    "            white += 1\n",
    "        if adm[count,13] == \"BLACK\":\n",
    "            black += 1\n",
    "        if adm[count,13] == \"HISPANIC\":\n",
    "            hispanic += 1\n",
    "        if adm[count,13] == \"ASIAN\":\n",
    "            asian += 1\n",
    "        else:\n",
    "            other += 1\n",
    "    count += 1\n",
    "print(white)\n",
    "print(black)"
   ]
  },
  {
   "cell_type": "code",
   "execution_count": null,
   "id": "b50730d0",
   "metadata": {},
   "outputs": [],
   "source": [
    "#Age statistics\n"
   ]
  },
  {
   "cell_type": "code",
   "execution_count": null,
   "id": "0544fab4",
   "metadata": {},
   "outputs": [],
   "source": [
    "#Sex statistics\n"
   ]
  },
  {
   "cell_type": "code",
   "execution_count": null,
   "id": "eb3076a7",
   "metadata": {},
   "outputs": [],
   "source": [
    "#ICD Code statistics\n"
   ]
  },
  {
   "cell_type": "code",
   "execution_count": null,
   "id": "c0562e07",
   "metadata": {},
   "outputs": [],
   "source": [
    "#Medication statistics\n"
   ]
  },
  {
   "cell_type": "code",
   "execution_count": null,
   "id": "583ecaf3",
   "metadata": {},
   "outputs": [],
   "source": [
    "#Lab component statistics\n",
    "#The paper mentioned significant removal of duplicate patient information at this step (20% of data removed)\n",
    "#a total of 5,609,021 lab tests were removed as they were not used.\n"
   ]
  },
  {
   "cell_type": "code",
   "execution_count": null,
   "id": "33a64f50",
   "metadata": {},
   "outputs": [],
   "source": [
    "#Outcome label = patient mortatility. Flag found in Admissions?\n"
   ]
  },
  {
   "cell_type": "code",
   "execution_count": null,
   "id": "0f46cf93",
   "metadata": {},
   "outputs": [],
   "source": [
    "#Data loader\n"
   ]
  },
  {
   "cell_type": "code",
   "execution_count": null,
   "id": "20f34fe6",
   "metadata": {},
   "outputs": [],
   "source": [
    "#Retain\n"
   ]
  },
  {
   "cell_type": "code",
   "execution_count": null,
   "id": "70a89050",
   "metadata": {},
   "outputs": [],
   "source": [
    "#Retain training\n"
   ]
  },
  {
   "cell_type": "code",
   "execution_count": null,
   "id": "3d5d3458",
   "metadata": {},
   "outputs": [],
   "source": [
    "#Clout model (The most important model to finish)\n"
   ]
  },
  {
   "cell_type": "code",
   "execution_count": null,
   "id": "387b6b95",
   "metadata": {},
   "outputs": [],
   "source": [
    "#Clout training\n"
   ]
  },
  {
   "cell_type": "code",
   "execution_count": null,
   "id": "7ca51362",
   "metadata": {},
   "outputs": [],
   "source": [
    "#Linear regression model\n"
   ]
  },
  {
   "cell_type": "code",
   "execution_count": null,
   "id": "ec543989",
   "metadata": {},
   "outputs": [],
   "source": [
    "#LR training\n"
   ]
  },
  {
   "cell_type": "code",
   "execution_count": null,
   "id": "3e47b8ee",
   "metadata": {},
   "outputs": [],
   "source": [
    "#Evaluation (do all together? or can do separate?)\n"
   ]
  },
  {
   "cell_type": "code",
   "execution_count": null,
   "id": "e9c82d1d",
   "metadata": {},
   "outputs": [],
   "source": [
    "#Summary conclusions\n"
   ]
  },
  {
   "cell_type": "code",
   "execution_count": null,
   "id": "0f9dc53a",
   "metadata": {},
   "outputs": [],
   "source": [
    "#Summary Graphs etc...\n"
   ]
  }
 ],
 "metadata": {
  "kernelspec": {
   "display_name": "Python 3 (ipykernel)",
   "language": "python",
   "name": "python3"
  },
  "language_info": {
   "codemirror_mode": {
    "name": "ipython",
    "version": 3
   },
   "file_extension": ".py",
   "mimetype": "text/x-python",
   "name": "python",
   "nbconvert_exporter": "python",
   "pygments_lexer": "ipython3",
   "version": "3.9.11"
  }
 },
 "nbformat": 4,
 "nbformat_minor": 5
}

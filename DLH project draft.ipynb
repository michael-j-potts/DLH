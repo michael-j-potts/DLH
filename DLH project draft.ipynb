{
 "cells": [
  {
   "cell_type": "code",
   "execution_count": 4,
   "id": "7ed92d9b",
   "metadata": {},
   "outputs": [],
   "source": [
    "#general instructions\n",
    "\n",
    "#2 or more patient encounters are required as the authors remove the last encounter while making predictions\n",
    "# patient mortality is the outcome label and aquired from mimic. \n",
    "#2825 out of 7537 patients died (37.9%)\n",
    "#Data set was divided into  train (5275/7537), validation (753/7537) and test (1509/7537)\n",
    "# Once the optimal parameters were selected, the model was retrained by combining train and validation (6028/7537)\n",
    "#\n",
    "#\n",
    "#\n",
    "#"
   ]
  },
  {
   "cell_type": "code",
   "execution_count": 5,
   "id": "c7b683be-1b9a-4270-952b-a8e5a9813fb4",
   "metadata": {},
   "outputs": [],
   "source": [
    "import os\n",
    "import pandas as pd\n",
    "import numpy as np\n",
    "import torch\n",
    "import torch.nn as nn\n",
    "import torch.nn.functional as F\n",
    "import random\n",
    "import time"
   ]
  },
  {
   "cell_type": "code",
   "execution_count": 6,
   "id": "d43c5b59-3e7a-4490-aa61-708d22d07470",
   "metadata": {},
   "outputs": [],
   "source": [
    "# set seed - only really necessary to compare results with each other, but can remove from the submission\n",
    "seed = 24\n",
    "random.seed(seed)\n",
    "np.random.seed(seed)\n",
    "torch.manual_seed(seed)\n",
    "os.environ[\"PYTHONHASHSEED\"] = str(seed)\n",
    "\n",
    "# define data path\n",
    "DATA_PATH = \"~/Documents/DLH 598/mimic-iii-clinical-database-1.4\"\n",
    "\n",
    "\n",
    "# define data - separated to show which modules load (some take much longer than others)\n",
    "#The commented out sections take a long time to load, and weren't immidiately useful at this stage\n",
    "#Can uncommment when relevant\n",
    "\n",
    "#TODO\n",
    "# - reorganize into a definition() after  "
   ]
  },
  {
   "cell_type": "code",
   "execution_count": 7,
   "id": "5aae81e1",
   "metadata": {},
   "outputs": [],
   "source": [
    "Patients = pd.read_csv(DATA_PATH + '/PATIENTS.csv')"
   ]
  },
  {
   "cell_type": "code",
   "execution_count": 8,
   "id": "aef884c5",
   "metadata": {},
   "outputs": [],
   "source": [
    "Diagnosis = pd.read_csv(DATA_PATH + '/DIAGNOSES_ICD.csv')"
   ]
  },
  {
   "cell_type": "code",
   "execution_count": 9,
   "id": "ab03c7e8",
   "metadata": {},
   "outputs": [],
   "source": [
    "Procedures = pd.read_csv(DATA_PATH + '/D_ICD_PROCEDURES.csv')"
   ]
  },
  {
   "cell_type": "code",
   "execution_count": 10,
   "id": "2ba977e9",
   "metadata": {},
   "outputs": [],
   "source": [
    "#Prescriptions = pd.read_csv(DATA_PATH + '/PRESCRIPTIONS.csv')"
   ]
  },
  {
   "cell_type": "code",
   "execution_count": 11,
   "id": "0ef15cef",
   "metadata": {},
   "outputs": [],
   "source": [
    "#LabEvents = pd.read_csv(DATA_PATH + '/LABEVENTS.csv')"
   ]
  },
  {
   "cell_type": "code",
   "execution_count": 12,
   "id": "8254e621",
   "metadata": {},
   "outputs": [],
   "source": [
    "LabLabels = pd.read_csv(DATA_PATH + '/D_LABITEMS.csv')"
   ]
  },
  {
   "cell_type": "code",
   "execution_count": 13,
   "id": "5c3e9025",
   "metadata": {},
   "outputs": [],
   "source": [
    "Admissions = pd.read_csv(DATA_PATH + '/ADMISSIONS.csv')"
   ]
  },
  {
   "cell_type": "code",
   "execution_count": 14,
   "id": "e0a4c65c",
   "metadata": {},
   "outputs": [],
   "source": [
    "ProcedureLabels = pd.read_csv(DATA_PATH + '/D_ITEMS.csv')"
   ]
  },
  {
   "cell_type": "code",
   "execution_count": 15,
   "id": "ea694043",
   "metadata": {},
   "outputs": [],
   "source": [
    "IcuStays = pd.read_csv(DATA_PATH + '/ICUSTAYS.csv')"
   ]
  },
  {
   "cell_type": "code",
   "execution_count": 16,
   "id": "d1ce3fe0",
   "metadata": {},
   "outputs": [],
   "source": [
    "#ChartEvents = pd.read_csv(DATA_PATH + '/CHARTEVENTS.csv')"
   ]
  },
  {
   "cell_type": "code",
   "execution_count": 19,
   "id": "9207fd6a",
   "metadata": {},
   "outputs": [],
   "source": [
    "# patient inclusion - Only ICU patients with 2 or more visits are included. Patient IDs gathered\n",
    "#May be incorrect as the paper specifies only 7,537 patients in their list.\n",
    "\n",
    "#Generate an ignore list for later ease of use.\n",
    "def Patient_Inclusion(IcuStays):\n",
    "    IcuList = IcuStays.to_numpy()\n",
    "\n",
    "    unique, counts = np.unique(IcuList[1:, 1], return_counts=True)\n",
    "\n",
    "    AllPatients = np.array(list(zip(unique, counts)))\n",
    "\n",
    "    PatientList = []\n",
    "    IgnoreList = []\n",
    "\n",
    "    for i in AllPatients:\n",
    "        if i[1] >= 2:\n",
    "            PatientList.append(i)\n",
    "        else:\n",
    "            IgnoreList.append(i[0])\n",
    "\n",
    "    print(len(PatientList))\n",
    "    print(len(IgnoreList))\n",
    "    return PatientList, IgnoreList"
   ]
  },
  {
   "cell_type": "code",
   "execution_count": null,
   "id": "cb0aee61",
   "metadata": {},
   "outputs": [],
   "source": []
  },
  {
   "cell_type": "code",
   "execution_count": null,
   "id": "6021b663-956f-47c5-87dc-ec28f2029ff9",
   "metadata": {},
   "outputs": [],
   "source": [
    "# data statistics\n",
    "white = 0\n",
    "black = 0\n",
    "hispanic = 0\n",
    "asian = 0\n",
    "other = 0\n",
    "\n",
    "\n",
    "#Not yet working.... General idea.\n",
    "for i in PatientList:\n",
    "    count = 0\n",
    "    if i == adm[:,1]:\n",
    "        if adm[count,13] == \"WHITE\":\n",
    "            white += 1\n",
    "        if adm[count,13] == \"BLACK\":\n",
    "            black += 1\n",
    "        if adm[count,13] == \"HISPANIC\":\n",
    "            hispanic += 1\n",
    "        if adm[count,13] == \"ASIAN\":\n",
    "            asian += 1\n",
    "        else:\n",
    "            other += 1\n",
    "    count += 1\n",
    "print(white)\n",
    "print(black)"
   ]
  },
  {
   "cell_type": "code",
   "execution_count": null,
   "id": "b50730d0",
   "metadata": {},
   "outputs": [],
   "source": [
    "#Age statistics\n"
   ]
  },
  {
   "cell_type": "code",
   "execution_count": null,
   "id": "3df83d63",
   "metadata": {},
   "outputs": [],
   "source": [
    "#Sex statistics\n"
   ]
  },
  {
   "cell_type": "code",
   "execution_count": null,
   "id": "cbb3f56b",
   "metadata": {},
   "outputs": [],
   "source": [
    "#ICD Code statistics\n"
   ]
  },
  {
   "cell_type": "code",
   "execution_count": null,
   "id": "46240fad",
   "metadata": {},
   "outputs": [],
   "source": [
    "#Medication statistics\n"
   ]
  },
  {
   "cell_type": "code",
   "execution_count": null,
   "id": "6a2ca256",
   "metadata": {},
   "outputs": [],
   "source": [
    "#Lab component statistics\n",
    "#The paper mentioned significant removal of duplicate patient information at this step (20% of data removed)\n",
    "#a total of 5,609,021 lab tests were removed as they were not used.\n"
   ]
  },
  {
   "cell_type": "code",
   "execution_count": null,
   "id": "b9ce8751",
   "metadata": {},
   "outputs": [],
   "source": [
    "#Outcome label = patient mortatility. Flag found in Admissions?\n"
   ]
  },
  {
   "cell_type": "code",
   "execution_count": null,
   "id": "d3db91ae",
   "metadata": {},
   "outputs": [],
   "source": [
    "#Data loader\n"
   ]
  },
  {
   "cell_type": "code",
   "execution_count": null,
   "id": "d071d216",
   "metadata": {},
   "outputs": [],
   "source": [
    "#Retain\n"
   ]
  },
  {
   "cell_type": "code",
   "execution_count": null,
   "id": "c4e355ee",
   "metadata": {},
   "outputs": [],
   "source": [
    "#Retain training\n"
   ]
  },
  {
   "cell_type": "code",
   "execution_count": null,
   "id": "8452103b",
   "metadata": {},
   "outputs": [],
   "source": [
    "#Clout model (The most important model to finish)\n"
   ]
  },
  {
   "cell_type": "code",
   "execution_count": null,
   "id": "ab47b2df",
   "metadata": {},
   "outputs": [],
   "source": [
    "#Clout training\n"
   ]
  },
  {
   "cell_type": "code",
   "execution_count": null,
   "id": "0d8e731e",
   "metadata": {},
   "outputs": [],
   "source": [
    "#Linear regression model\n"
   ]
  },
  {
   "cell_type": "code",
   "execution_count": null,
   "id": "0f0fd08b",
   "metadata": {},
   "outputs": [],
   "source": [
    "#LR training\n"
   ]
  },
  {
   "cell_type": "code",
   "execution_count": null,
   "id": "62f9d3b1",
   "metadata": {},
   "outputs": [],
   "source": [
    "#Evaluation (do all together? or can do separate?)\n"
   ]
  },
  {
   "cell_type": "code",
   "execution_count": null,
   "id": "2ac2af37",
   "metadata": {},
   "outputs": [],
   "source": [
    "#Summary conclusions\n"
   ]
  },
  {
   "cell_type": "code",
   "execution_count": null,
   "id": "6bea0bee",
   "metadata": {},
   "outputs": [],
   "source": [
    "#Summary Graphs etc...\n"
   ]
  }
 ],
 "metadata": {
  "kernelspec": {
   "display_name": "Python 3 (ipykernel)",
   "language": "python",
   "name": "python3"
  },
  "language_info": {
   "codemirror_mode": {
    "name": "ipython",
    "version": 3
   },
   "file_extension": ".py",
   "mimetype": "text/x-python",
   "name": "python",
   "nbconvert_exporter": "python",
   "pygments_lexer": "ipython3",
   "version": "3.9.11"
  }
 },
 "nbformat": 4,
 "nbformat_minor": 5
}

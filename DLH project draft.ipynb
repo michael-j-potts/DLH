{
 "cells": [
  {
   "cell_type": "code",
   "execution_count": 1,
   "id": "54b66248",
   "metadata": {},
   "outputs": [],
   "source": [
    "#general instructions\n",
    "\n",
    "#2 or more patient encounters are required as the authors remove the last encounter while making predictions\n",
    "# patient mortality is the outcome label and aquired from mimic. \n",
    "#2825 out of 7537 patients died (37.9%)\n",
    "#Data set was divided into  train (5275/7537), validation (753/7537) and test (1509/7537)\n",
    "# Once the optimal parameters were selected, the model was retrained by combining train and validation (6028/7537)\n",
    "#\n",
    "#\n",
    "#********************** stars mean the data is not correct but the implemention functions.\n",
    "#"
   ]
  },
  {
   "cell_type": "code",
   "execution_count": 2,
   "id": "c7b683be-1b9a-4270-952b-a8e5a9813fb4",
   "metadata": {},
   "outputs": [],
   "source": [
    "import os\n",
    "import pandas as pd\n",
    "import numpy as np\n",
    "import torch\n",
    "import torch.nn as nn\n",
    "import torch.nn.functional as F\n",
    "import random\n",
    "import time"
   ]
  },
  {
   "cell_type": "code",
   "execution_count": 3,
   "id": "d43c5b59-3e7a-4490-aa61-708d22d07470",
   "metadata": {},
   "outputs": [],
   "source": [
    "# set seed - only really necessary to compare results with each other, but can remove from the submission\n",
    "seed = 24\n",
    "random.seed(seed)\n",
    "np.random.seed(seed)\n",
    "torch.manual_seed(seed)\n",
    "os.environ[\"PYTHONHASHSEED\"] = str(seed)\n",
    "\n",
    "# define data path\n",
    "DATA_PATH = \"~/Documents/DLH 598/mimic-iii-clinical-database-1.4\"\n",
    "\n",
    "\n",
    "# define data - separated to show which modules load (some take much longer than others)\n",
    "#The commented out sections take a long time to load, and weren't immidiately useful at this stage\n",
    "#Can uncommment when relevant\n",
    "\n",
    "#TODO\n",
    "# - reorganize into a definition() after  "
   ]
  },
  {
   "cell_type": "code",
   "execution_count": 4,
   "id": "5aae81e1",
   "metadata": {},
   "outputs": [],
   "source": [
    "Patients = pd.read_csv(DATA_PATH + '/PATIENTS.csv')"
   ]
  },
  {
   "cell_type": "code",
   "execution_count": 187,
   "id": "aef884c5",
   "metadata": {},
   "outputs": [],
   "source": [
    "Diagnosis = pd.read_csv(DATA_PATH + '/DIAGNOSES_ICD.csv')"
   ]
  },
  {
   "cell_type": "code",
   "execution_count": 6,
   "id": "ab03c7e8",
   "metadata": {},
   "outputs": [],
   "source": [
    "Procedures = pd.read_csv(DATA_PATH + '/D_ICD_PROCEDURES.csv')"
   ]
  },
  {
   "cell_type": "code",
   "execution_count": 7,
   "id": "2ba977e9",
   "metadata": {},
   "outputs": [],
   "source": [
    "#Prescriptions = pd.read_csv(DATA_PATH + '/PRESCRIPTIONS.csv')"
   ]
  },
  {
   "cell_type": "code",
   "execution_count": 8,
   "id": "0ef15cef",
   "metadata": {},
   "outputs": [],
   "source": [
    "#LabEvents = pd.read_csv(DATA_PATH + '/LABEVENTS.csv')"
   ]
  },
  {
   "cell_type": "code",
   "execution_count": 9,
   "id": "8254e621",
   "metadata": {},
   "outputs": [],
   "source": [
    "LabLabels = pd.read_csv(DATA_PATH + '/D_LABITEMS.csv')"
   ]
  },
  {
   "cell_type": "code",
   "execution_count": 10,
   "id": "5c3e9025",
   "metadata": {},
   "outputs": [],
   "source": [
    "Admissions = pd.read_csv(DATA_PATH + '/ADMISSIONS.csv')"
   ]
  },
  {
   "cell_type": "code",
   "execution_count": 11,
   "id": "e0a4c65c",
   "metadata": {},
   "outputs": [],
   "source": [
    "ProcedureLabels = pd.read_csv(DATA_PATH + '/D_ITEMS.csv')"
   ]
  },
  {
   "cell_type": "code",
   "execution_count": 97,
   "id": "ea694043",
   "metadata": {},
   "outputs": [],
   "source": [
    "IcuStays = pd.read_csv(DATA_PATH + '/ICUSTAYS.csv')"
   ]
  },
  {
   "cell_type": "code",
   "execution_count": 98,
   "id": "d1ce3fe0",
   "metadata": {},
   "outputs": [],
   "source": [
    "#ChartEvents = pd.read_csv(DATA_PATH + '/CHARTEVENTS.csv')"
   ]
  },
  {
   "cell_type": "code",
   "execution_count": 145,
   "id": "9207fd6a",
   "metadata": {},
   "outputs": [],
   "source": [
    "# patient inclusion - Only ICU patients with 2 or more visits are included. Patient IDs gathered\n",
    "#May be incorrect as the paper specifies only 7,537 patients in their list.\n",
    "\n",
    "\n",
    "#********************************************\n",
    "#Generate an ignore list for later ease of use.\n",
    "def Patient_Inclusion(IcuStays):\n",
    "    IcuList = IcuStays.to_numpy()\n",
    "\n",
    "    unique, counts = np.unique(IcuList[1:, 1], return_counts=True)\n",
    "    \n",
    "    AllPatients = np.array(list(zip(np.transpose(unique), np.transpose(counts))))\n",
    "\n",
    "    PatientList = []\n",
    "    IgnoreList = []\n",
    "\n",
    "    for i in AllPatients:\n",
    "        if i[1] >= 2:\n",
    "            PatientList.append(i)\n",
    "        else:\n",
    "            IgnoreList.append(i[0])\n",
    "\n",
    "    print(pd.DataFrame(PatientList)[0])\n",
    "    print(len(IgnoreList))\n",
    "    return PatientList, IgnoreList"
   ]
  },
  {
   "cell_type": "code",
   "execution_count": 173,
   "id": "5b177839",
   "metadata": {},
   "outputs": [
    {
     "name": "stdout",
     "output_type": "stream",
     "text": [
      "0           7\n",
      "1          17\n",
      "2          21\n",
      "3          23\n",
      "4          34\n",
      "        ...  \n",
      "8750    99865\n",
      "8751    99883\n",
      "8752    99897\n",
      "8753    99923\n",
      "8754    99982\n",
      "Name: 0, Length: 8755, dtype: int64\n",
      "37720\n"
     ]
    }
   ],
   "source": [
    "#To be added to main at the end\n",
    "\n",
    "\n",
    "#separate patient ids and count information\n",
    "PatientList, IgnoreList = Patient_Inclusion(IcuStays)\n",
    "PatientList = pd.DataFrame(PatientList, columns = ['ID', 'Count'])\n",
    "Patient_ID = PatientList['ID']\n",
    "Visits = PatientList['Count']"
   ]
  },
  {
   "cell_type": "code",
   "execution_count": 174,
   "id": "6021b663-956f-47c5-87dc-ec28f2029ff9",
   "metadata": {},
   "outputs": [],
   "source": [
    "# data statistics - Ethnicity and visit statistics\n",
    "\n",
    "def Ethnicity_Statistics(Admissions):\n",
    "    white = 0\n",
    "    black = 0\n",
    "    hispanic = 0\n",
    "    asian = 0\n",
    "    other = 0\n",
    "    \n",
    "    #separate out ethnicity information\n",
    "    EthStatistics = Admissions[['SUBJECT_ID', 'ETHNICITY']]\n",
    "    IcuPatientEth = EthStatistics[EthStatistics.SUBJECT_ID.isin(Patient_ID)].drop_duplicates('SUBJECT_ID').reset_index(drop = True)\n",
    "\n",
    "    #Not yet working.... General idea.\n",
    "    for i in IcuPatientEth.ETHNICITY:\n",
    "        if \"WHITE\" in i:\n",
    "            white += 1\n",
    "        if \"BLACK\" in i:\n",
    "            black += 1\n",
    "        if \"HISPANIC\" in i:\n",
    "            hispanic += 1\n",
    "        if \"ASIAN\"  in i:\n",
    "            asian += 1\n",
    "    \n",
    "        #I tried combining it, but the count was always more wrong...\n",
    "        if \"OTHER\" in i:\n",
    "            other += 1\n",
    "        if \"DECLINED\" in i:\n",
    "            other += 1\n",
    "        if \"NATIVE\" in i:\n",
    "            other += 1\n",
    "        if \"MIDDLE EASTERN\" in i:\n",
    "            other += 1\n",
    "        if \"MULTI\" in i:\n",
    "            other += 1\n",
    "        if \"UNABLE\" in i:\n",
    "            other += 1\n",
    "        if \"UNKNOWN\" in i:\n",
    "            other += 1\n",
    "        \n",
    "\n",
    "    print(white / len(IcuPatientEth))\n",
    "    print(black / len(IcuPatientEth))\n",
    "    print(hispanic / len(IcuPatientEth))\n",
    "    print(asian / len(IcuPatientEth))\n",
    "    print(other / len(IcuPatientEth))\n",
    "\n",
    "    print(((white + black + hispanic + asian + other) / len(IcuPatientEth)))\n",
    "    \n",
    "    #*****************************************************\n",
    "    #6 too many values. Need to sort that out....\n",
    "    print(len(IcuPatientEth))\n",
    "    print(white + black + asian + hispanic + other)\n",
    "    return white, black, hispanic, asian, other"
   ]
  },
  {
   "cell_type": "code",
   "execution_count": 175,
   "id": "a92b762e",
   "metadata": {},
   "outputs": [
    {
     "name": "stdout",
     "output_type": "stream",
     "text": [
      "0.7356938892061679\n",
      "0.10428326670474015\n",
      "0.03438035408338092\n",
      "0.024785836664762993\n",
      "0.10154197601370646\n",
      "1.0006853226727583\n",
      "8755\n",
      "8761\n"
     ]
    },
    {
     "data": {
      "text/plain": [
       "(6441, 913, 301, 217, 889)"
      ]
     },
     "execution_count": 175,
     "metadata": {},
     "output_type": "execute_result"
    }
   ],
   "source": [
    "#To be added to main at the end\n",
    "Ethnicity_Statistics(Admissions)"
   ]
  },
  {
   "cell_type": "code",
   "execution_count": 132,
   "id": "b50730d0",
   "metadata": {},
   "outputs": [],
   "source": [
    "#Age statistics - unable to find age so far\n",
    "#def Age_statistics():"
   ]
  },
  {
   "cell_type": "code",
   "execution_count": 184,
   "id": "13b781bf",
   "metadata": {},
   "outputs": [],
   "source": [
    "#Sex statistics\n",
    "def Gender_Statistics(Patients):\n",
    "    male = 0\n",
    "    female = 0\n",
    "    \n",
    "    SexStatistics = Patients[['SUBJECT_ID', 'GENDER']]\n",
    "    IcuPatientSex = SexStatistics[SexStatistics.SUBJECT_ID.isin(Patient_ID)].drop_duplicates('SUBJECT_ID').reset_index(drop = True)\n",
    "    \n",
    "    for i in IcuPatientSex.GENDER:\n",
    "        if i == \"M\":\n",
    "            male += 1\n",
    "        if i == \"F\":\n",
    "            female += 1\n",
    "            \n",
    "    print(male)\n",
    "    print(female)\n",
    "    \n",
    "    print(male / len(IcuPatientSex))\n",
    "    print(female / len(IcuPatientSex))\n",
    "    \n",
    "    return male, female"
   ]
  },
  {
   "cell_type": "code",
   "execution_count": 185,
   "id": "0d72c267",
   "metadata": {},
   "outputs": [
    {
     "name": "stdout",
     "output_type": "stream",
     "text": [
      "4943\n",
      "3812\n",
      "0.5645916619074814\n",
      "0.43540833809251855\n"
     ]
    },
    {
     "data": {
      "text/plain": [
       "(4943, 3812)"
      ]
     },
     "execution_count": 185,
     "metadata": {},
     "output_type": "execute_result"
    }
   ],
   "source": [
    "Gender_Statistics(Patients)"
   ]
  },
  {
   "cell_type": "code",
   "execution_count": 189,
   "id": "e3b1979e",
   "metadata": {},
   "outputs": [
    {
     "name": "stdout",
     "output_type": "stream",
     "text": [
      "        SUBJECT_ID ICD9_CODE\n",
      "0              109     40301\n",
      "1              109       486\n",
      "2              109     58281\n",
      "3              109      5855\n",
      "4              109      4254\n",
      "...            ...       ...\n",
      "278613       97488      0414\n",
      "278614       97488     30391\n",
      "278615       97488     E8798\n",
      "278616       97488     78791\n",
      "278617       97488     V4986\n",
      "\n",
      "[278618 rows x 2 columns]\n",
      "SUBJECT_ID\n",
      "ICD9_CODE\n"
     ]
    }
   ],
   "source": [
    "#ICD Code statistics\n",
    "def ICD_Codes(Diagnosis):\n",
    "    \n",
    "    ICDStatistics = Diagnosis[['SUBJECT_ID', 'ICD9_CODE']]\n",
    "    IcuPatientICD = ICDStatistics[ICDStatistics.SUBJECT_ID.isin(Patient_ID)].reset_index(drop = True)\n",
    "    print(IcuPatientICD)\n",
    "        \n",
    "ICD_Codes(Diagnosis)"
   ]
  },
  {
   "cell_type": "code",
   "execution_count": null,
   "id": "2e09115b",
   "metadata": {},
   "outputs": [],
   "source": [
    "#Medication statistics\n"
   ]
  },
  {
   "cell_type": "code",
   "execution_count": null,
   "id": "dde54247",
   "metadata": {},
   "outputs": [],
   "source": [
    "#Lab component statistics\n",
    "#The paper mentioned significant removal of duplicate patient information at this step (20% of data removed)\n",
    "#a total of 5,609,021 lab tests were removed as they were not used.\n"
   ]
  },
  {
   "cell_type": "code",
   "execution_count": null,
   "id": "13517328",
   "metadata": {},
   "outputs": [],
   "source": [
    "#Outcome label = patient mortatility. Flag found in Admissions?\n"
   ]
  },
  {
   "cell_type": "code",
   "execution_count": null,
   "id": "5a1d88df",
   "metadata": {},
   "outputs": [],
   "source": [
    "#Data loader\n"
   ]
  },
  {
   "cell_type": "code",
   "execution_count": null,
   "id": "f21c5904",
   "metadata": {},
   "outputs": [],
   "source": [
    "#Retain\n"
   ]
  },
  {
   "cell_type": "code",
   "execution_count": null,
   "id": "aabd159e",
   "metadata": {},
   "outputs": [],
   "source": [
    "#Retain training\n"
   ]
  },
  {
   "cell_type": "code",
   "execution_count": null,
   "id": "586322cd",
   "metadata": {},
   "outputs": [],
   "source": [
    "#Clout model (The most important model to finish)\n"
   ]
  },
  {
   "cell_type": "code",
   "execution_count": null,
   "id": "0533301a",
   "metadata": {},
   "outputs": [],
   "source": [
    "#Clout training\n"
   ]
  },
  {
   "cell_type": "code",
   "execution_count": null,
   "id": "ed64b68a",
   "metadata": {},
   "outputs": [],
   "source": [
    "#Linear regression model\n"
   ]
  },
  {
   "cell_type": "code",
   "execution_count": null,
   "id": "70a25627",
   "metadata": {},
   "outputs": [],
   "source": [
    "#LR training\n"
   ]
  },
  {
   "cell_type": "code",
   "execution_count": null,
   "id": "80438e0b",
   "metadata": {},
   "outputs": [],
   "source": [
    "#Evaluation (do all together? or can do separate?)\n"
   ]
  },
  {
   "cell_type": "code",
   "execution_count": null,
   "id": "47d11b59",
   "metadata": {},
   "outputs": [],
   "source": [
    "#Summary conclusions\n"
   ]
  },
  {
   "cell_type": "code",
   "execution_count": null,
   "id": "46e9d23b",
   "metadata": {},
   "outputs": [],
   "source": [
    "#Summary Graphs etc...\n"
   ]
  }
 ],
 "metadata": {
  "kernelspec": {
   "display_name": "Python 3 (ipykernel)",
   "language": "python",
   "name": "python3"
  },
  "language_info": {
   "codemirror_mode": {
    "name": "ipython",
    "version": 3
   },
   "file_extension": ".py",
   "mimetype": "text/x-python",
   "name": "python",
   "nbconvert_exporter": "python",
   "pygments_lexer": "ipython3",
   "version": "3.9.11"
  }
 },
 "nbformat": 4,
 "nbformat_minor": 5
}
